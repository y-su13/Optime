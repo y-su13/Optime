{
 "cells": [
  {
   "cell_type": "code",
   "execution_count": 29,
   "metadata": {},
   "outputs": [
    {
     "name": "stdout",
     "output_type": "stream",
     "text": [
      "Optimization terminated successfully.    (Exit mode 0)\n",
      "            Current function value: -4.491318808511785\n",
      "            Iterations: 15\n",
      "            Function evaluations: 222\n",
      "            Gradient evaluations: 15\n"
     ]
    },
    {
     "name": "stderr",
     "output_type": "stream",
     "text": [
      "d:\\program files\\python36\\lib\\site-packages\\ipykernel_launcher.py:12: RuntimeWarning: divide by zero encountered in log\n",
      "  if sys.path[0] == '':\n",
      "d:\\program files\\python36\\lib\\site-packages\\ipykernel_launcher.py:12: RuntimeWarning: invalid value encountered in log\n",
      "  if sys.path[0] == '':\n",
      "d:\\program files\\python36\\lib\\site-packages\\ipykernel_launcher.py:12: RuntimeWarning: invalid value encountered in multiply\n",
      "  if sys.path[0] == '':\n"
     ]
    }
   ],
   "source": [
    "T = 20\n",
    "t = 10\n",
    "\n",
    "import numpy as np\n",
    "\n",
    "V = np.copy(np.random.random(T-t+1) * 10)\n",
    "\n",
    "C = 1 + (1 - np.e**(-T+t-1)) / (1 - 1 / np.e)\n",
    "\n",
    "i = np.arange(t, T+1)\n",
    "\n",
    "fun = lambda x: -np.sum((V-T+i-np.log(C*x/(1-np.sum(x))))*x)\n",
    "\n",
    "bnds = [(0, None) for i in range(T-t+1)]\n",
    "\n",
    "cons = {'type': 'ineq', 'fun': lambda x:  1-np.sum(x)}\n",
    "\n",
    "x1_0 = np.zeros(T-t+1) + 1e-3\n",
    "\n",
    "\n",
    "from scipy.optimize import minimize\n",
    "\n",
    "res = minimize(fun, x1_0, method='SLSQP', bounds=bnds,\n",
    "               constraints=cons, options={'disp': True})"
   ]
  },
  {
   "cell_type": "code",
   "execution_count": 30,
   "metadata": {},
   "outputs": [
    {
     "data": {
      "text/plain": [
       "array([5.49436328e-14, 8.37551845e-07, 6.27641795e-14, 6.41598191e-07,\n",
       "       2.08325332e-07, 2.42100672e-02, 4.30812992e-02, 2.02897095e-01,\n",
       "       3.43303307e-01, 8.20676303e-04, 2.57590681e-01])"
      ]
     },
     "execution_count": 30,
     "metadata": {},
     "output_type": "execute_result"
    }
   ],
   "source": [
    "x1 = res.x\n",
    "x1"
   ]
  },
  {
   "cell_type": "code",
   "execution_count": 31,
   "metadata": {},
   "outputs": [
    {
     "data": {
      "text/plain": [
       "0.8719048140997037"
      ]
     },
     "execution_count": 31,
     "metadata": {},
     "output_type": "execute_result"
    }
   ],
   "source": [
    "np.sum(x1)"
   ]
  },
  {
   "cell_type": "code",
   "execution_count": 32,
   "metadata": {
    "scrolled": true
   },
   "outputs": [
    {
     "data": {
      "text/plain": [
       "4.491318808511785"
      ]
     },
     "execution_count": 32,
     "metadata": {},
     "output_type": "execute_result"
    }
   ],
   "source": [
    "-fun(x1)"
   ]
  },
  {
   "cell_type": "code",
   "execution_count": 33,
   "metadata": {},
   "outputs": [
    {
     "data": {
      "text/plain": [
       "array([20.771334  ,  4.76821866, 19.66267676,  4.94700868, 10.27374537,\n",
       "        5.20068779,  1.22184089,  5.03107426,  5.64252951,  4.67282326,\n",
       "        5.24490143])"
      ]
     },
     "execution_count": 33,
     "metadata": {},
     "output_type": "execute_result"
    }
   ],
   "source": [
    "p = V-T+i-np.log(C*x1/(1-np.sum(x1)))\n",
    "p"
   ]
  },
  {
   "cell_type": "markdown",
   "metadata": {},
   "source": [
    "上述是以x1为优化对象，现在我们以p为优化对象，看看两者是否一样"
   ]
  },
  {
   "cell_type": "code",
   "execution_count": 42,
   "metadata": {},
   "outputs": [
    {
     "name": "stdout",
     "output_type": "stream",
     "text": [
      "Optimization terminated successfully.    (Exit mode 0)\n",
      "            Current function value: -4.705662674727992\n",
      "            Iterations: 43\n",
      "            Function evaluations: 569\n",
      "            Gradient evaluations: 43\n"
     ]
    }
   ],
   "source": [
    "def fun_2(x):\n",
    "    \n",
    "    temp = np.exp(V-x-T+i)\n",
    "    \n",
    "    return -np.sum(x*temp/(C+np.sum(temp)))\n",
    "\n",
    "p_0 = np.zeros(T-t+1) + 1e-3\n",
    "\n",
    "from scipy.optimize import minimize\n",
    "\n",
    "res = minimize(fun_2, p_0, method='SLSQP', options={'disp': True})"
   ]
  },
  {
   "cell_type": "code",
   "execution_count": 43,
   "metadata": {},
   "outputs": [
    {
     "data": {
      "text/plain": [
       "array([0.3431138 , 0.55731938, 0.13675178, 0.5155342 , 5.82558742,\n",
       "       5.70166246, 5.56879594, 5.70674802, 5.70507001, 6.39014193,\n",
       "       5.70592235])"
      ]
     },
     "execution_count": 43,
     "metadata": {},
     "output_type": "execute_result"
    }
   ],
   "source": [
    "p = res.x\n",
    "p"
   ]
  },
  {
   "cell_type": "code",
   "execution_count": 44,
   "metadata": {},
   "outputs": [
    {
     "data": {
      "text/plain": [
       "array([5.58944988e-05, 7.71561256e-05, 2.59001165e-05, 7.36913364e-05,\n",
       "       2.43299337e-05, 2.00453596e-02, 7.62111627e-04, 1.41066156e-01,\n",
       "       4.40661781e-01, 2.01343799e-04, 2.21972768e-01])"
      ]
     },
     "execution_count": 44,
     "metadata": {},
     "output_type": "execute_result"
    }
   ],
   "source": [
    "x1 = np.exp(V-p-T+i) / (C + np.sum(np.exp(V-p-T+i)))\n",
    "x1"
   ]
  },
  {
   "cell_type": "code",
   "execution_count": 45,
   "metadata": {},
   "outputs": [
    {
     "data": {
      "text/plain": [
       "4.705662674727994"
      ]
     },
     "execution_count": 45,
     "metadata": {},
     "output_type": "execute_result"
    }
   ],
   "source": [
    "-fun(x1)"
   ]
  },
  {
   "cell_type": "code",
   "execution_count": 46,
   "metadata": {},
   "outputs": [
    {
     "data": {
      "text/plain": [
       "4.705662674727992"
      ]
     },
     "execution_count": 46,
     "metadata": {},
     "output_type": "execute_result"
    }
   ],
   "source": [
    "-fun_2(p)"
   ]
  },
  {
   "cell_type": "markdown",
   "metadata": {},
   "source": [
    "我个人认为没有转化错，因为x1最优解的值太小了，所以优化x1结果更不稳定，优化p结果更稳定"
   ]
  },
  {
   "cell_type": "code",
   "execution_count": 49,
   "metadata": {},
   "outputs": [],
   "source": [
    "T = 5"
   ]
  },
  {
   "cell_type": "code",
   "execution_count": 51,
   "metadata": {},
   "outputs": [
    {
     "data": {
      "text/plain": [
       "array([[5.05829955, 4.38218733, 3.95086789, 8.04758078, 4.75297128],\n",
       "       [0.        , 7.6913108 , 9.5103961 , 3.13728536, 8.10029128],\n",
       "       [0.        , 0.        , 2.28904127, 0.92488434, 7.36856463],\n",
       "       [0.        , 0.        , 0.        , 1.97394028, 7.85841857],\n",
       "       [0.        , 0.        , 0.        , 0.        , 6.91009141]])"
      ]
     },
     "execution_count": 51,
     "metadata": {},
     "output_type": "execute_result"
    }
   ],
   "source": [
    "V = np.triu(np.copy(np.random.random(T ** 2) * 10).reshape(T, T))\n",
    "V"
   ]
  },
  {
   "cell_type": "code",
   "execution_count": 53,
   "metadata": {},
   "outputs": [
    {
     "data": {
      "text/plain": [
       "array([2.57131743, 2.55300179, 2.50321472, 2.36787944, 2.        ])"
      ]
     },
     "execution_count": 53,
     "metadata": {},
     "output_type": "execute_result"
    }
   ],
   "source": [
    "C = np.array([1 + (1 - np.e**(-T+t-1)) / (1 - 1 / np.e) for t in range(1, T+1)])\n",
    "C"
   ]
  },
  {
   "cell_type": "code",
   "execution_count": 59,
   "metadata": {},
   "outputs": [
    {
     "data": {
      "text/plain": [
       "array([[1, 2, 3, 4, 5],\n",
       "       [0, 2, 3, 4, 5],\n",
       "       [0, 0, 3, 4, 5],\n",
       "       [0, 0, 0, 4, 5],\n",
       "       [0, 0, 0, 0, 5]])"
      ]
     },
     "execution_count": 59,
     "metadata": {},
     "output_type": "execute_result"
    }
   ],
   "source": [
    "i = np.triu(np.tile(np.arange(1, T+1), (5, 1)))\n",
    "i"
   ]
  },
  {
   "cell_type": "code",
   "execution_count": 64,
   "metadata": {},
   "outputs": [
    {
     "data": {
      "text/plain": [
       "array([8.9531971 , 4.19334349, 9.47635593, 7.63831688, 7.78118251])"
      ]
     },
     "execution_count": 64,
     "metadata": {},
     "output_type": "execute_result"
    }
   ],
   "source": [
    "a = np.copy(np.random.random(T) * 10)\n",
    "a"
   ]
  },
  {
   "cell_type": "code",
   "execution_count": 70,
   "metadata": {},
   "outputs": [],
   "source": [
    "def fun_3(x):\n",
    "    \n",
    "    out = 0\n",
    "    \n",
    "    for j in range(T):\n",
    "        \n",
    "        temp_V = V[j, j:]\n",
    "        temp_i = i[j, j:]\n",
    "        \n",
    "        temp_x = x[j:]\n",
    "        \n",
    "        temp_a = a[j]\n",
    "        temp_C = C[j]\n",
    "        \n",
    "        temp_temp = np.exp(temp_V-temp_x-T+temp_i)\n",
    "        out += temp_a * np.sum(temp_x*temp_temp/(temp_C+np.sum(temp_temp)))\n",
    "    \n",
    "    return -out"
   ]
  },
  {
   "cell_type": "code",
   "execution_count": 71,
   "metadata": {},
   "outputs": [
    {
     "name": "stdout",
     "output_type": "stream",
     "text": [
      "Optimization terminated successfully.    (Exit mode 0)\n",
      "            Current function value: -156.88531382918464\n",
      "            Iterations: 27\n",
      "            Function evaluations: 199\n",
      "            Gradient evaluations: 27\n"
     ]
    },
    {
     "name": "stderr",
     "output_type": "stream",
     "text": [
      "d:\\program files\\python36\\lib\\site-packages\\ipykernel_launcher.py:15: RuntimeWarning: overflow encountered in exp\n",
      "  from ipykernel import kernelapp as app\n",
      "d:\\program files\\python36\\lib\\site-packages\\ipykernel_launcher.py:16: RuntimeWarning: invalid value encountered in true_divide\n",
      "  app.launch_new_instance()\n"
     ]
    }
   ],
   "source": [
    "p_0 = np.zeros(T) + 1e-3\n",
    "\n",
    "from scipy.optimize import minimize\n",
    "\n",
    "res = minimize(fun_3, p_0, method='SLSQP', options={'disp': True})"
   ]
  },
  {
   "cell_type": "code",
   "execution_count": 72,
   "metadata": {},
   "outputs": [
    {
     "data": {
      "text/plain": [
       "array([4.8559605 , 5.69150139, 5.81338369, 4.85709256, 5.20128414])"
      ]
     },
     "execution_count": 72,
     "metadata": {},
     "output_type": "execute_result"
    }
   ],
   "source": [
    "p = res.x\n",
    "p"
   ]
  },
  {
   "cell_type": "code",
   "execution_count": 74,
   "metadata": {},
   "outputs": [
    {
     "name": "stdout",
     "output_type": "stream",
     "text": [
      "[0.00183699 0.00110128 0.00172163 0.7323632  0.05232506]\n",
      "[0.0138272  0.20517031 0.00247693 0.68254958]\n",
      "[3.54566786e-04 6.41000948e-04 7.76474935e-01]\n",
      "[0.00123684 0.85649559]\n",
      "[0.73412638]\n"
     ]
    }
   ],
   "source": [
    "for j in range(T):\n",
    "    \n",
    "    print(np.exp(V[j, j:]-p[j:]-T+i[j, j:]) / (C[j] + np.sum(np.exp(V[j, j:]-p[j:]-T+i[j, j:]))))"
   ]
  },
  {
   "cell_type": "markdown",
   "metadata": {},
   "source": [
    "进一步的，我们再加一个k"
   ]
  },
  {
   "cell_type": "code",
   "execution_count": 81,
   "metadata": {},
   "outputs": [],
   "source": [
    "T = 5\n",
    "K = 5"
   ]
  },
  {
   "cell_type": "code",
   "execution_count": 82,
   "metadata": {},
   "outputs": [
    {
     "data": {
      "text/plain": [
       "array([[[9.91465912, 2.253602  , 4.09987104, 2.36682657, 5.6531446 ],\n",
       "        [0.        , 5.85212574, 7.39122661, 6.62285866, 9.85764868],\n",
       "        [0.        , 0.        , 1.37844526, 2.03594798, 3.87460196],\n",
       "        [0.        , 0.        , 0.        , 7.87224325, 0.29176928],\n",
       "        [0.        , 0.        , 0.        , 0.        , 1.51883682]],\n",
       "\n",
       "       [[5.10832329, 4.33178859, 8.50398837, 7.24708992, 8.08024348],\n",
       "        [0.        , 8.93278069, 2.7987843 , 7.51710529, 9.55779675],\n",
       "        [0.        , 0.        , 5.29716385, 4.43977738, 0.94351115],\n",
       "        [0.        , 0.        , 0.        , 9.25868274, 2.13014322],\n",
       "        [0.        , 0.        , 0.        , 0.        , 1.19521969]],\n",
       "\n",
       "       [[5.50495393, 3.5149056 , 9.77612476, 7.9741235 , 7.42454574],\n",
       "        [0.        , 8.66135925, 1.05261789, 3.63259055, 3.49123614],\n",
       "        [0.        , 0.        , 6.90850733, 9.3666354 , 8.07419442],\n",
       "        [0.        , 0.        , 0.        , 9.73032822, 9.9181832 ],\n",
       "        [0.        , 0.        , 0.        , 0.        , 1.12394826]],\n",
       "\n",
       "       [[7.20198192, 2.9882133 , 2.73496226, 5.33560304, 1.31865944],\n",
       "        [0.        , 7.97342562, 2.39419183, 9.27049148, 7.61606946],\n",
       "        [0.        , 0.        , 7.01386494, 8.55509035, 0.67364052],\n",
       "        [0.        , 0.        , 0.        , 7.92841728, 8.33774469],\n",
       "        [0.        , 0.        , 0.        , 0.        , 3.46074726]],\n",
       "\n",
       "       [[5.05429359, 6.1558441 , 2.39382868, 1.41060134, 7.31427322],\n",
       "        [0.        , 3.27237623, 7.19846715, 0.45663344, 0.36721814],\n",
       "        [0.        , 0.        , 6.01340041, 6.27664992, 9.02972972],\n",
       "        [0.        , 0.        , 0.        , 9.03612328, 4.42120268],\n",
       "        [0.        , 0.        , 0.        , 0.        , 0.61994561]]])"
      ]
     },
     "execution_count": 82,
     "metadata": {},
     "output_type": "execute_result"
    }
   ],
   "source": [
    "V = np.triu(np.copy(np.random.random(T ** 2 * k) * 10).reshape(K, T, T))\n",
    "V"
   ]
  },
  {
   "cell_type": "code",
   "execution_count": 77,
   "metadata": {},
   "outputs": [
    {
     "data": {
      "text/plain": [
       "array([2.57131743, 2.55300179, 2.50321472, 2.36787944, 2.        ])"
      ]
     },
     "execution_count": 77,
     "metadata": {},
     "output_type": "execute_result"
    }
   ],
   "source": [
    "C = np.array([1 + (1 - np.e**(-T+t-1)) / (1 - 1 / np.e) for t in range(1, T+1)])\n",
    "C"
   ]
  },
  {
   "cell_type": "code",
   "execution_count": 78,
   "metadata": {},
   "outputs": [
    {
     "data": {
      "text/plain": [
       "array([[1, 2, 3, 4, 5],\n",
       "       [0, 2, 3, 4, 5],\n",
       "       [0, 0, 3, 4, 5],\n",
       "       [0, 0, 0, 4, 5],\n",
       "       [0, 0, 0, 0, 5]])"
      ]
     },
     "execution_count": 78,
     "metadata": {},
     "output_type": "execute_result"
    }
   ],
   "source": [
    "i = np.triu(np.tile(np.arange(1, T+1), (5, 1)))\n",
    "i"
   ]
  },
  {
   "cell_type": "code",
   "execution_count": 84,
   "metadata": {},
   "outputs": [
    {
     "data": {
      "text/plain": [
       "array([[7.92792213, 2.7229757 , 1.33188009, 7.57199219, 0.52701871],\n",
       "       [0.78885791, 1.29891858, 4.85731315, 8.63245254, 1.52867507],\n",
       "       [7.16350555, 6.81156256, 5.47352022, 7.03213401, 4.39259424],\n",
       "       [1.88816135, 7.44918726, 5.25623055, 1.79465849, 1.90270275],\n",
       "       [0.38394826, 7.68262652, 5.23782811, 5.60729796, 0.9436954 ]])"
      ]
     },
     "execution_count": 84,
     "metadata": {},
     "output_type": "execute_result"
    }
   ],
   "source": [
    "a = np.copy(np.random.random(T * K) * 10).reshape(K, T)\n",
    "a"
   ]
  },
  {
   "cell_type": "code",
   "execution_count": 85,
   "metadata": {},
   "outputs": [],
   "source": [
    "def fun_4(x):\n",
    "    \n",
    "    out = 0\n",
    "    \n",
    "    for k in range(K):\n",
    "    \n",
    "        for j in range(T):\n",
    "\n",
    "            temp_V = V[k, j, j:]\n",
    "            temp_i = i[j, j:]\n",
    "\n",
    "            temp_x = x[j:]\n",
    "\n",
    "            temp_a = a[k, j]\n",
    "            temp_C = C[j]\n",
    "\n",
    "            temp_temp = np.exp(temp_V-temp_x-T+temp_i)\n",
    "            out += temp_a * np.sum(temp_x*temp_temp/(temp_C+np.sum(temp_temp)))\n",
    "    \n",
    "    return -out"
   ]
  },
  {
   "cell_type": "code",
   "execution_count": 89,
   "metadata": {},
   "outputs": [
    {
     "name": "stdout",
     "output_type": "stream",
     "text": [
      "Optimization terminated successfully.    (Exit mode 0)\n",
      "            Current function value: -382.43282065044207\n",
      "            Iterations: 24\n",
      "            Function evaluations: 189\n",
      "            Gradient evaluations: 24\n"
     ]
    },
    {
     "name": "stderr",
     "output_type": "stream",
     "text": [
      "d:\\program files\\python36\\lib\\site-packages\\ipykernel_launcher.py:17: RuntimeWarning: overflow encountered in exp\n",
      "d:\\program files\\python36\\lib\\site-packages\\ipykernel_launcher.py:18: RuntimeWarning: invalid value encountered in true_divide\n"
     ]
    }
   ],
   "source": [
    "p_0 = np.zeros(T) + 1e-3\n",
    "\n",
    "from scipy.optimize import minimize\n",
    "\n",
    "res = minimize(fun_4, p_0, method='SLSQP', options={'disp': True})"
   ]
  },
  {
   "cell_type": "code",
   "execution_count": 90,
   "metadata": {},
   "outputs": [
    {
     "data": {
      "text/plain": [
       "array([4.01213229, 4.14050384, 4.57127379, 5.61381911, 6.30784688])"
      ]
     },
     "execution_count": 90,
     "metadata": {},
     "output_type": "execute_result"
    }
   ],
   "source": [
    "p1 = res.x\n",
    "p1"
   ]
  },
  {
   "cell_type": "code",
   "execution_count": null,
   "metadata": {},
   "outputs": [],
   "source": []
  }
 ],
 "metadata": {
  "kernelspec": {
   "display_name": "Python 3",
   "language": "python",
   "name": "python3"
  },
  "language_info": {
   "codemirror_mode": {
    "name": "ipython",
    "version": 3
   },
   "file_extension": ".py",
   "mimetype": "text/x-python",
   "name": "python",
   "nbconvert_exporter": "python",
   "pygments_lexer": "ipython3",
   "version": "3.6.5"
  }
 },
 "nbformat": 4,
 "nbformat_minor": 2
}
