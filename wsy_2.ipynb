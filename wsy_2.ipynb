{
 "cells": [
  {
   "cell_type": "code",
   "execution_count": 29,
   "metadata": {},
   "outputs": [
    {
     "name": "stdout",
     "output_type": "stream",
     "text": [
      "Optimization terminated successfully.    (Exit mode 0)\n",
      "            Current function value: -4.491318808511785\n",
      "            Iterations: 15\n",
      "            Function evaluations: 222\n",
      "            Gradient evaluations: 15\n"
     ]
    },
    {
     "name": "stderr",
     "output_type": "stream",
     "text": [
      "d:\\program files\\python36\\lib\\site-packages\\ipykernel_launcher.py:12: RuntimeWarning: divide by zero encountered in log\n",
      "  if sys.path[0] == '':\n",
      "d:\\program files\\python36\\lib\\site-packages\\ipykernel_launcher.py:12: RuntimeWarning: invalid value encountered in log\n",
      "  if sys.path[0] == '':\n",
      "d:\\program files\\python36\\lib\\site-packages\\ipykernel_launcher.py:12: RuntimeWarning: invalid value encountered in multiply\n",
      "  if sys.path[0] == '':\n"
     ]
    }
   ],
   "source": [
    "T = 20\n",
    "t = 10\n",
    "\n",
    "import numpy as np\n",
    "\n",
    "V = np.copy(np.random.random(T-t+1) * 10)\n",
    "\n",
    "C = 1 + (1 - np.e**(-T+t-1)) / (1 - 1 / np.e)\n",
    "\n",
    "i = np.arange(t, T+1)\n",
    "\n",
    "fun = lambda x: -np.sum((V-T+i-np.log(C*x/(1-np.sum(x))))*x)\n",
    "\n",
    "bnds = [(0, None) for i in range(T-t+1)]\n",
    "\n",
    "cons = {'type': 'ineq', 'fun': lambda x:  1-np.sum(x)}\n",
    "\n",
    "x1_0 = np.zeros(T-t+1) + 1e-3\n",
    "\n",
    "\n",
    "from scipy.optimize import minimize\n",
    "\n",
    "res = minimize(fun, x1_0, method='SLSQP', bounds=bnds,\n",
    "               constraints=cons, options={'disp': True})"
   ]
  },
  {
   "cell_type": "code",
   "execution_count": 30,
   "metadata": {},
   "outputs": [
    {
     "data": {
      "text/plain": [
       "array([5.49436328e-14, 8.37551845e-07, 6.27641795e-14, 6.41598191e-07,\n",
       "       2.08325332e-07, 2.42100672e-02, 4.30812992e-02, 2.02897095e-01,\n",
       "       3.43303307e-01, 8.20676303e-04, 2.57590681e-01])"
      ]
     },
     "execution_count": 30,
     "metadata": {},
     "output_type": "execute_result"
    }
   ],
   "source": [
    "x1 = res.x\n",
    "x1"
   ]
  },
  {
   "cell_type": "code",
   "execution_count": 31,
   "metadata": {},
   "outputs": [
    {
     "data": {
      "text/plain": [
       "0.8719048140997037"
      ]
     },
     "execution_count": 31,
     "metadata": {},
     "output_type": "execute_result"
    }
   ],
   "source": [
    "np.sum(x1)"
   ]
  },
  {
   "cell_type": "code",
   "execution_count": 32,
   "metadata": {
    "scrolled": true
   },
   "outputs": [
    {
     "data": {
      "text/plain": [
       "4.491318808511785"
      ]
     },
     "execution_count": 32,
     "metadata": {},
     "output_type": "execute_result"
    }
   ],
   "source": [
    "-fun(x1)"
   ]
  },
  {
   "cell_type": "code",
   "execution_count": 33,
   "metadata": {},
   "outputs": [
    {
     "data": {
      "text/plain": [
       "array([20.771334  ,  4.76821866, 19.66267676,  4.94700868, 10.27374537,\n",
       "        5.20068779,  1.22184089,  5.03107426,  5.64252951,  4.67282326,\n",
       "        5.24490143])"
      ]
     },
     "execution_count": 33,
     "metadata": {},
     "output_type": "execute_result"
    }
   ],
   "source": [
    "p = V-T+i-np.log(C*x1/(1-np.sum(x1)))\n",
    "p"
   ]
  },
  {
   "cell_type": "markdown",
   "metadata": {},
   "source": [
    "上述是以x1为优化对象，现在我们以p为优化对象，看看两者是否一样"
   ]
  },
  {
   "cell_type": "code",
   "execution_count": 42,
   "metadata": {},
   "outputs": [
    {
     "name": "stdout",
     "output_type": "stream",
     "text": [
      "Optimization terminated successfully.    (Exit mode 0)\n",
      "            Current function value: -4.705662674727992\n",
      "            Iterations: 43\n",
      "            Function evaluations: 569\n",
      "            Gradient evaluations: 43\n"
     ]
    }
   ],
   "source": [
    "def fun_2(x):\n",
    "    \n",
    "    temp = np.exp(V-x-T+i)\n",
    "    \n",
    "    return -np.sum(x*temp/(C+np.sum(temp)))\n",
    "\n",
    "p_0 = np.zeros(T-t+1) + 1e-3\n",
    "\n",
    "from scipy.optimize import minimize\n",
    "\n",
    "res = minimize(fun_2, p_0, method='SLSQP', options={'disp': True})"
   ]
  },
  {
   "cell_type": "code",
   "execution_count": 43,
   "metadata": {},
   "outputs": [
    {
     "data": {
      "text/plain": [
       "array([0.3431138 , 0.55731938, 0.13675178, 0.5155342 , 5.82558742,\n",
       "       5.70166246, 5.56879594, 5.70674802, 5.70507001, 6.39014193,\n",
       "       5.70592235])"
      ]
     },
     "execution_count": 43,
     "metadata": {},
     "output_type": "execute_result"
    }
   ],
   "source": [
    "p = res.x\n",
    "p"
   ]
  },
  {
   "cell_type": "code",
   "execution_count": 44,
   "metadata": {},
   "outputs": [
    {
     "data": {
      "text/plain": [
       "array([5.58944988e-05, 7.71561256e-05, 2.59001165e-05, 7.36913364e-05,\n",
       "       2.43299337e-05, 2.00453596e-02, 7.62111627e-04, 1.41066156e-01,\n",
       "       4.40661781e-01, 2.01343799e-04, 2.21972768e-01])"
      ]
     },
     "execution_count": 44,
     "metadata": {},
     "output_type": "execute_result"
    }
   ],
   "source": [
    "x1 = np.exp(V-p-T+i) / (C + np.sum(np.exp(V-p-T+i)))\n",
    "x1"
   ]
  },
  {
   "cell_type": "code",
   "execution_count": 45,
   "metadata": {},
   "outputs": [
    {
     "data": {
      "text/plain": [
       "4.705662674727994"
      ]
     },
     "execution_count": 45,
     "metadata": {},
     "output_type": "execute_result"
    }
   ],
   "source": [
    "-fun(x1)"
   ]
  },
  {
   "cell_type": "code",
   "execution_count": 46,
   "metadata": {},
   "outputs": [
    {
     "data": {
      "text/plain": [
       "4.705662674727992"
      ]
     },
     "execution_count": 46,
     "metadata": {},
     "output_type": "execute_result"
    }
   ],
   "source": [
    "-fun_2(p)"
   ]
  },
  {
   "cell_type": "markdown",
   "metadata": {},
   "source": [
    "我个人认为没有转化错，因为x1最优解的值太小了，所以优化x1结果更不稳定，优化p结果更稳定"
   ]
  },
  {
   "cell_type": "code",
   "execution_count": 49,
   "metadata": {},
   "outputs": [],
   "source": [
    "T = 5"
   ]
  },
  {
   "cell_type": "code",
   "execution_count": 51,
   "metadata": {},
   "outputs": [
    {
     "data": {
      "text/plain": [
       "array([[5.05829955, 4.38218733, 3.95086789, 8.04758078, 4.75297128],\n",
       "       [0.        , 7.6913108 , 9.5103961 , 3.13728536, 8.10029128],\n",
       "       [0.        , 0.        , 2.28904127, 0.92488434, 7.36856463],\n",
       "       [0.        , 0.        , 0.        , 1.97394028, 7.85841857],\n",
       "       [0.        , 0.        , 0.        , 0.        , 6.91009141]])"
      ]
     },
     "execution_count": 51,
     "metadata": {},
     "output_type": "execute_result"
    }
   ],
   "source": [
    "V = np.triu(np.copy(np.random.random(T ** 2) * 10).reshape(T, T))\n",
    "V"
   ]
  },
  {
   "cell_type": "code",
   "execution_count": 53,
   "metadata": {},
   "outputs": [
    {
     "data": {
      "text/plain": [
       "array([2.57131743, 2.55300179, 2.50321472, 2.36787944, 2.        ])"
      ]
     },
     "execution_count": 53,
     "metadata": {},
     "output_type": "execute_result"
    }
   ],
   "source": [
    "C = np.array([1 + (1 - np.e**(-T+t-1)) / (1 - 1 / np.e) for t in range(1, T+1)])\n",
    "C"
   ]
  },
  {
   "cell_type": "code",
   "execution_count": 59,
   "metadata": {},
   "outputs": [
    {
     "data": {
      "text/plain": [
       "array([[1, 2, 3, 4, 5],\n",
       "       [0, 2, 3, 4, 5],\n",
       "       [0, 0, 3, 4, 5],\n",
       "       [0, 0, 0, 4, 5],\n",
       "       [0, 0, 0, 0, 5]])"
      ]
     },
     "execution_count": 59,
     "metadata": {},
     "output_type": "execute_result"
    }
   ],
   "source": [
    "i = np.triu(np.tile(np.arange(1, T+1), (5, 1)))\n",
    "i"
   ]
  },
  {
   "cell_type": "code",
   "execution_count": 64,
   "metadata": {},
   "outputs": [
    {
     "data": {
      "text/plain": [
       "array([8.9531971 , 4.19334349, 9.47635593, 7.63831688, 7.78118251])"
      ]
     },
     "execution_count": 64,
     "metadata": {},
     "output_type": "execute_result"
    }
   ],
   "source": [
    "a = np.copy(np.random.random(T) * 10)\n",
    "a"
   ]
  },
  {
   "cell_type": "code",
   "execution_count": 70,
   "metadata": {},
   "outputs": [],
   "source": [
    "def fun_3(x):\n",
    "    \n",
    "    out = 0\n",
    "    \n",
    "    for j in range(T):\n",
    "        \n",
    "        temp_V = V[j, j:]\n",
    "        temp_i = i[j, j:]\n",
    "        \n",
    "        temp_x = x[j:]\n",
    "        \n",
    "        temp_a = a[j]\n",
    "        temp_C = C[j]\n",
    "        \n",
    "        temp_temp = np.exp(temp_V-temp_x-T+temp_i)\n",
    "        out += temp_a * np.sum(temp_x*temp_temp/(temp_C+np.sum(temp_temp)))\n",
    "    \n",
    "    return -out"
   ]
  },
  {
   "cell_type": "code",
   "execution_count": 71,
   "metadata": {},
   "outputs": [
    {
     "name": "stdout",
     "output_type": "stream",
     "text": [
      "Optimization terminated successfully.    (Exit mode 0)\n",
      "            Current function value: -156.88531382918464\n",
      "            Iterations: 27\n",
      "            Function evaluations: 199\n",
      "            Gradient evaluations: 27\n"
     ]
    },
    {
     "name": "stderr",
     "output_type": "stream",
     "text": [
      "d:\\program files\\python36\\lib\\site-packages\\ipykernel_launcher.py:15: RuntimeWarning: overflow encountered in exp\n",
      "  from ipykernel import kernelapp as app\n",
      "d:\\program files\\python36\\lib\\site-packages\\ipykernel_launcher.py:16: RuntimeWarning: invalid value encountered in true_divide\n",
      "  app.launch_new_instance()\n"
     ]
    }
   ],
   "source": [
    "p_0 = np.zeros(T) + 1e-3\n",
    "\n",
    "from scipy.optimize import minimize\n",
    "\n",
    "res = minimize(fun_3, p_0, method='SLSQP', options={'disp': True})"
   ]
  },
  {
   "cell_type": "code",
   "execution_count": 72,
   "metadata": {},
   "outputs": [
    {
     "data": {
      "text/plain": [
       "array([4.8559605 , 5.69150139, 5.81338369, 4.85709256, 5.20128414])"
      ]
     },
     "execution_count": 72,
     "metadata": {},
     "output_type": "execute_result"
    }
   ],
   "source": [
    "p = res.x\n",
    "p"
   ]
  },
  {
   "cell_type": "code",
   "execution_count": 74,
   "metadata": {},
   "outputs": [
    {
     "name": "stdout",
     "output_type": "stream",
     "text": [
      "[0.00183699 0.00110128 0.00172163 0.7323632  0.05232506]\n",
      "[0.0138272  0.20517031 0.00247693 0.68254958]\n",
      "[3.54566786e-04 6.41000948e-04 7.76474935e-01]\n",
      "[0.00123684 0.85649559]\n",
      "[0.73412638]\n"
     ]
    }
   ],
   "source": [
    "for j in range(T):\n",
    "    \n",
    "    print(np.exp(V[j, j:]-p[j:]-T+i[j, j:]) / (C[j] + np.sum(np.exp(V[j, j:]-p[j:]-T+i[j, j:]))))"
   ]
  },
  {
   "cell_type": "code",
   "execution_count": null,
   "metadata": {},
   "outputs": [],
   "source": []
  }
 ],
 "metadata": {
  "kernelspec": {
   "display_name": "Python 3",
   "language": "python",
   "name": "python3"
  },
  "language_info": {
   "codemirror_mode": {
    "name": "ipython",
    "version": 3
   },
   "file_extension": ".py",
   "mimetype": "text/x-python",
   "name": "python",
   "nbconvert_exporter": "python",
   "pygments_lexer": "ipython3",
   "version": "3.6.5"
  }
 },
 "nbformat": 4,
 "nbformat_minor": 2
}
